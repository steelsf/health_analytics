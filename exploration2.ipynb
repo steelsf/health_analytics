{
 "cells": [
  {
   "cell_type": "code",
   "execution_count": 52,
   "metadata": {},
   "outputs": [],
   "source": [
    "import pandas as pd\n",
    "import numpy as np\n",
    "from matplotlib import pyplot as plt\n",
    "pd.get_option(\"display.max_columns\")\n",
    "pd.set_option('display.max_columns', 500)\n",
    "import csv\n",
    "import pickle\n",
    "from sklearn.tree import DecisionTreeClassifier\n",
    "from sklearn.ensemble import RandomForestClassifier\n",
    "from sklearn.ensemble import RandomForestRegressor\n",
    "from sklearn.preprocessing import MinMaxScaler\n",
    "from sklearn.preprocessing import StandardScaler\n",
    "from sklearn.metrics import r2_score\n",
    "from sklearn.model_selection import train_test_split\n",
    "from sklearn.ensemble import GradientBoostingRegressor\n",
    "from sklearn.linear_model import LogisticRegression\n",
    "from sklearn.linear_model import LinearRegression"
   ]
  },
  {
   "cell_type": "code",
   "execution_count": 2,
   "metadata": {},
   "outputs": [],
   "source": [
    "df = pd.read_csv('./data/county_level_manually_created.csv')"
   ]
  },
  {
   "cell_type": "code",
   "execution_count": 3,
   "metadata": {},
   "outputs": [
    {
     "data": {
      "text/plain": [
       "Index(['FIPS', 'State', 'County', 'Life Expectancy',\n",
       "       '% Frequent Physical Distress', '% Frequent Mental Distress',\n",
       "       '% Adults with Diabetes', '% Food Insecure', '% Insufficient Sleep',\n",
       "       'Median Household Income', '% Homeowners',\n",
       "       '% Severe Housing Cost Burden', 'Cohort Size',\n",
       "       'High School Graduation Rate', 'Average Grade Performance'],\n",
       "      dtype='object')"
      ]
     },
     "metadata": {},
     "output_type": "display_data"
    },
    {
     "data": {
      "text/html": [
       "<div>\n",
       "<style scoped>\n",
       "    .dataframe tbody tr th:only-of-type {\n",
       "        vertical-align: middle;\n",
       "    }\n",
       "\n",
       "    .dataframe tbody tr th {\n",
       "        vertical-align: top;\n",
       "    }\n",
       "\n",
       "    .dataframe thead th {\n",
       "        text-align: right;\n",
       "    }\n",
       "</style>\n",
       "<table border=\"1\" class=\"dataframe\">\n",
       "  <thead>\n",
       "    <tr style=\"text-align: right;\">\n",
       "      <th></th>\n",
       "      <th>FIPS</th>\n",
       "      <th>State</th>\n",
       "      <th>County</th>\n",
       "      <th>Life Expectancy</th>\n",
       "      <th>% Frequent Physical Distress</th>\n",
       "      <th>% Frequent Mental Distress</th>\n",
       "      <th>% Adults with Diabetes</th>\n",
       "      <th>% Food Insecure</th>\n",
       "      <th>% Insufficient Sleep</th>\n",
       "      <th>Median Household Income</th>\n",
       "      <th>% Homeowners</th>\n",
       "      <th>% Severe Housing Cost Burden</th>\n",
       "      <th>Cohort Size</th>\n",
       "      <th>High School Graduation Rate</th>\n",
       "      <th>Average Grade Performance</th>\n",
       "    </tr>\n",
       "  </thead>\n",
       "  <tbody>\n",
       "    <tr>\n",
       "      <th>0</th>\n",
       "      <td>1000</td>\n",
       "      <td>Alabama</td>\n",
       "      <td>NaN</td>\n",
       "      <td>75.5</td>\n",
       "      <td>14</td>\n",
       "      <td>16</td>\n",
       "      <td>15</td>\n",
       "      <td>17</td>\n",
       "      <td>40</td>\n",
       "      <td>51771.0</td>\n",
       "      <td>69</td>\n",
       "      <td>12.0</td>\n",
       "      <td>55151.0</td>\n",
       "      <td>90.0</td>\n",
       "      <td>2.9</td>\n",
       "    </tr>\n",
       "    <tr>\n",
       "      <th>1</th>\n",
       "      <td>1001</td>\n",
       "      <td>Alabama</td>\n",
       "      <td>Autauga</td>\n",
       "      <td>77.2</td>\n",
       "      <td>13</td>\n",
       "      <td>16</td>\n",
       "      <td>13</td>\n",
       "      <td>16</td>\n",
       "      <td>38</td>\n",
       "      <td>58233.0</td>\n",
       "      <td>73</td>\n",
       "      <td>13.0</td>\n",
       "      <td>652.0</td>\n",
       "      <td>89.0</td>\n",
       "      <td>3.1</td>\n",
       "    </tr>\n",
       "    <tr>\n",
       "      <th>2</th>\n",
       "      <td>1003</td>\n",
       "      <td>Alabama</td>\n",
       "      <td>Baldwin</td>\n",
       "      <td>78.2</td>\n",
       "      <td>12</td>\n",
       "      <td>15</td>\n",
       "      <td>10</td>\n",
       "      <td>13</td>\n",
       "      <td>36</td>\n",
       "      <td>59871.0</td>\n",
       "      <td>75</td>\n",
       "      <td>11.0</td>\n",
       "      <td>2305.0</td>\n",
       "      <td>88.0</td>\n",
       "      <td>3.2</td>\n",
       "    </tr>\n",
       "    <tr>\n",
       "      <th>3</th>\n",
       "      <td>1005</td>\n",
       "      <td>Alabama</td>\n",
       "      <td>Barbour</td>\n",
       "      <td>74.1</td>\n",
       "      <td>18</td>\n",
       "      <td>19</td>\n",
       "      <td>18</td>\n",
       "      <td>22</td>\n",
       "      <td>41</td>\n",
       "      <td>35972.0</td>\n",
       "      <td>61</td>\n",
       "      <td>14.0</td>\n",
       "      <td>261.0</td>\n",
       "      <td>82.0</td>\n",
       "      <td>2.4</td>\n",
       "    </tr>\n",
       "    <tr>\n",
       "      <th>4</th>\n",
       "      <td>1007</td>\n",
       "      <td>Alabama</td>\n",
       "      <td>Bibb</td>\n",
       "      <td>73.4</td>\n",
       "      <td>15</td>\n",
       "      <td>17</td>\n",
       "      <td>14</td>\n",
       "      <td>15</td>\n",
       "      <td>40</td>\n",
       "      <td>47918.0</td>\n",
       "      <td>74</td>\n",
       "      <td>9.0</td>\n",
       "      <td>225.0</td>\n",
       "      <td>88.0</td>\n",
       "      <td>2.7</td>\n",
       "    </tr>\n",
       "  </tbody>\n",
       "</table>\n",
       "</div>"
      ],
      "text/plain": [
       "   FIPS    State   County  Life Expectancy  % Frequent Physical Distress  \\\n",
       "0  1000  Alabama      NaN             75.5                            14   \n",
       "1  1001  Alabama  Autauga             77.2                            13   \n",
       "2  1003  Alabama  Baldwin             78.2                            12   \n",
       "3  1005  Alabama  Barbour             74.1                            18   \n",
       "4  1007  Alabama     Bibb             73.4                            15   \n",
       "\n",
       "   % Frequent Mental Distress  % Adults with Diabetes  % Food Insecure  \\\n",
       "0                          16                      15               17   \n",
       "1                          16                      13               16   \n",
       "2                          15                      10               13   \n",
       "3                          19                      18               22   \n",
       "4                          17                      14               15   \n",
       "\n",
       "   % Insufficient Sleep  Median Household Income  % Homeowners  \\\n",
       "0                    40                  51771.0            69   \n",
       "1                    38                  58233.0            73   \n",
       "2                    36                  59871.0            75   \n",
       "3                    41                  35972.0            61   \n",
       "4                    40                  47918.0            74   \n",
       "\n",
       "   % Severe Housing Cost Burden  Cohort Size  High School Graduation Rate  \\\n",
       "0                          12.0      55151.0                         90.0   \n",
       "1                          13.0        652.0                         89.0   \n",
       "2                          11.0       2305.0                         88.0   \n",
       "3                          14.0        261.0                         82.0   \n",
       "4                           9.0        225.0                         88.0   \n",
       "\n",
       "   Average Grade Performance  \n",
       "0                        2.9  \n",
       "1                        3.1  \n",
       "2                        3.2  \n",
       "3                        2.4  \n",
       "4                        2.7  "
      ]
     },
     "metadata": {},
     "output_type": "display_data"
    },
    {
     "data": {
      "text/plain": [
       "(3193, 15)"
      ]
     },
     "metadata": {},
     "output_type": "display_data"
    },
    {
     "data": {
      "text/plain": [
       "FIPS                               0\n",
       "State                              0\n",
       "County                            51\n",
       "Life Expectancy                   69\n",
       "% Frequent Physical Distress       0\n",
       "% Frequent Mental Distress         0\n",
       "% Adults with Diabetes             0\n",
       "% Food Insecure                    0\n",
       "% Insufficient Sleep               0\n",
       "Median Household Income            1\n",
       "% Homeowners                       0\n",
       "% Severe Housing Cost Burden       3\n",
       "Cohort Size                      556\n",
       "High School Graduation Rate      556\n",
       "Average Grade Performance       3125\n",
       "dtype: int64"
      ]
     },
     "metadata": {},
     "output_type": "display_data"
    },
    {
     "data": {
      "text/plain": [
       "FIPS                              0\n",
       "State                             0\n",
       "County                           51\n",
       "Life Expectancy                  69\n",
       "% Frequent Physical Distress      0\n",
       "% Frequent Mental Distress        0\n",
       "% Food Insecure                   0\n",
       "% Insufficient Sleep              0\n",
       "Median Household Income           1\n",
       "% Homeowners                      0\n",
       "% Severe Housing Cost Burden      3\n",
       "High School Graduation Rate     556\n",
       "dtype: int64"
      ]
     },
     "metadata": {},
     "output_type": "display_data"
    },
    {
     "data": {
      "text/plain": [
       "FIPS                             0\n",
       "State                            0\n",
       "County                          51\n",
       "Life Expectancy                  0\n",
       "% Frequent Physical Distress     0\n",
       "% Frequent Mental Distress       0\n",
       "% Food Insecure                  0\n",
       "% Insufficient Sleep             0\n",
       "Median Household Income          0\n",
       "% Homeowners                     0\n",
       "% Severe Housing Cost Burden     0\n",
       "High School Graduation Rate      0\n",
       "dtype: int64"
      ]
     },
     "metadata": {},
     "output_type": "display_data"
    },
    {
     "data": {
      "text/plain": [
       "% Frequent Physical Distress    0\n",
       "% Frequent Mental Distress      0\n",
       "% Food Insecure                 0\n",
       "% Insufficient Sleep            0\n",
       "Median Household Income         0\n",
       "% Homeowners                    0\n",
       "% Severe Housing Cost Burden    0\n",
       "High School Graduation Rate     0\n",
       "dtype: int64"
      ]
     },
     "execution_count": 3,
     "metadata": {},
     "output_type": "execute_result"
    }
   ],
   "source": [
    "display(df.columns)\n",
    "display(df.head())\n",
    "display(df.shape)\n",
    "display(df.isna().sum())\n",
    "df2 = df.drop(['Average Grade Performance','Cohort Size','% Adults with Diabetes'],axis=1)\n",
    "display(df2.isna().sum())\n",
    "df3 = df2[df2['Life Expectancy'].notna()].copy()\n",
    "avg_hs_grad = np.mean(df3['High School Graduation Rate'])\n",
    "df3['High School Graduation Rate'] = df3['High School Graduation Rate'].fillna(avg_hs_grad)\n",
    "display(df3.isna().sum())\n",
    "X = df3.drop(['FIPS', 'State', 'County', 'Life Expectancy',],axis=1)\n",
    "y = df3['Life Expectancy']\n",
    "# scaler = MinMaxScaler()\n",
    "scaler = StandardScaler()\n",
    "X_scaled = scaler.fit_transform(X)\n",
    "X_scaled = pd.DataFrame(data=X_scaled, columns=X.columns)\n",
    "X_scaled.isna().sum()\n",
    "# df_scaled = scaler.fit_transform(df.iloc[:,3:])\n",
    "# df_scaled_df = pd.DataFrame(data=df_scaled, columns=df.columns[3:])\n",
    "# # print(df_scaled_df)"
   ]
  },
  {
   "cell_type": "code",
   "execution_count": 4,
   "metadata": {},
   "outputs": [],
   "source": [
    "# scaler = MinMaxScaler()\n",
    "# # scaler = StandardScaler()\n",
    "# # transform data\n",
    "# df_scaled = scaler.fit_transform(df.iloc[:,3:])\n",
    "# df_scaled_df = pd.DataFrame(data=df_scaled, columns=df.columns[3:])\n",
    "# # print(df_scaled_df)\n",
    "# df2 = pd.concat([df.iloc[:,:3],df_scaled_df], axis=1)"
   ]
  },
  {
   "cell_type": "code",
   "execution_count": 5,
   "metadata": {},
   "outputs": [
    {
     "data": {
      "text/plain": [
       "(3124, 8)"
      ]
     },
     "execution_count": 5,
     "metadata": {},
     "output_type": "execute_result"
    },
    {
     "data": {
      "image/png": "[encoded data removed]",
      "text/plain": [
       "<Figure size 432x288 with 1 Axes>"
      ]
     },
     "metadata": {
      "needs_background": "light"
     },
     "output_type": "display_data"
    }
   ],
   "source": [
    "# df2['Life Expectancy'].hist(bins=80)\n",
    "X_scaled['% Frequent Mental Distress'].hist()\n",
    "X_scaled.shape"
   ]
  },
  {
   "cell_type": "code",
   "execution_count": 6,
   "metadata": {},
   "outputs": [],
   "source": [
    "# df_states = df2[df2['County'].isnull()].copy()\n",
    "# df_states.shape\n",
    "# df_no_null = df.dropna().copy()\n",
    "# df_no_null.shape"
   ]
  },
  {
   "cell_type": "code",
   "execution_count": 7,
   "metadata": {},
   "outputs": [],
   "source": [
    "# X = df_no_null.drop(['FIPS', 'State', 'County', 'Life Expectancy', 'Average Grade Performance', 'Cohort Size'], axis=1)\n",
    "# y = df_no_null['Life Expectancy']\n",
    "# X.isna().sum()"
   ]
  },
  {
   "cell_type": "code",
   "execution_count": 8,
   "metadata": {},
   "outputs": [],
   "source": [
    "X_train, X_test, y_train, y_test = train_test_split(X_scaled, y, test_size=0.2, random_state=42)"
   ]
  },
  {
   "cell_type": "code",
   "execution_count": 9,
   "metadata": {},
   "outputs": [
    {
     "data": {
      "text/plain": [
       "0.5444426535670652"
      ]
     },
     "execution_count": 9,
     "metadata": {},
     "output_type": "execute_result"
    }
   ],
   "source": [
    "# forest = RandomForestRegressor()\n",
    "# forest.fit(X,y)\n",
    "forest = RandomForestRegressor()\n",
    "forest.fit(X_train,y_train)\n",
    "y_pred = forest.predict(X_test)\n",
    "r2_score(y_test, y_pred)"
   ]
  },
  {
   "cell_type": "code",
   "execution_count": 10,
   "metadata": {},
   "outputs": [
    {
     "data": {
      "text/plain": [
       "0.9414394517239655"
      ]
     },
     "metadata": {},
     "output_type": "display_data"
    },
    {
     "data": {
      "text/plain": [
       "0.5435528275095027"
      ]
     },
     "metadata": {},
     "output_type": "display_data"
    }
   ],
   "source": [
    "# forest = RandomForestRegressor()\n",
    "# forest.fit(X,y)\n",
    "forest = RandomForestRegressor(n_estimators=500, )\n",
    "forest.fit(X_train,y_train)\n",
    "y_pred_train = forest.predict(X_train)\n",
    "display(r2_score(y_train, y_pred_train))\n",
    "y_pred = forest.predict(X_test)\n",
    "display(r2_score(y_test, y_pred))"
   ]
  },
  {
   "cell_type": "code",
   "execution_count": 28,
   "metadata": {},
   "outputs": [
    {
     "data": {
      "text/plain": [
       "0.8087522327650135"
      ]
     },
     "metadata": {},
     "output_type": "display_data"
    },
    {
     "data": {
      "text/plain": [
       "0.5504793626858367"
      ]
     },
     "metadata": {},
     "output_type": "display_data"
    },
    {
     "data": {
      "text/plain": [
       "(2499, 8)"
      ]
     },
     "metadata": {},
     "output_type": "display_data"
    }
   ],
   "source": [
    "# forest = RandomForestRegressor()\n",
    "# forest.fit(X,y)\n",
    "forest = RandomForestRegressor(min_samples_split=8,max_depth=10, n_estimators=500, random_state=42)\n",
    "forest.fit(X_train,y_train)\n",
    "y_pred_train = forest.predict(X_train)\n",
    "display(r2_score(y_train, y_pred_train))\n",
    "y_pred = forest.predict(X_test)\n",
    "display(r2_score(y_test, y_pred))\n",
    "display(X_train.shape)\n"
   ]
  },
  {
   "cell_type": "code",
   "execution_count": 29,
   "metadata": {},
   "outputs": [
    {
     "data": {
      "text/html": [
       "<div>\n",
       "<style scoped>\n",
       "    .dataframe tbody tr th:only-of-type {\n",
       "        vertical-align: middle;\n",
       "    }\n",
       "\n",
       "    .dataframe tbody tr th {\n",
       "        vertical-align: top;\n",
       "    }\n",
       "\n",
       "    .dataframe thead th {\n",
       "        text-align: right;\n",
       "    }\n",
       "</style>\n",
       "<table border=\"1\" class=\"dataframe\">\n",
       "  <thead>\n",
       "    <tr style=\"text-align: right;\">\n",
       "      <th></th>\n",
       "      <th>% Frequent Physical Distress</th>\n",
       "      <th>% Frequent Mental Distress</th>\n",
       "      <th>% Food Insecure</th>\n",
       "      <th>% Insufficient Sleep</th>\n",
       "      <th>Median Household Income</th>\n",
       "      <th>% Homeowners</th>\n",
       "      <th>% Severe Housing Cost Burden</th>\n",
       "      <th>High School Graduation Rate</th>\n",
       "    </tr>\n",
       "  </thead>\n",
       "  <tbody>\n",
       "    <tr>\n",
       "      <th>1746</th>\n",
       "      <td>1.279234</td>\n",
       "      <td>0.790055</td>\n",
       "      <td>1.000794</td>\n",
       "      <td>0.792076</td>\n",
       "      <td>-0.834608</td>\n",
       "      <td>-0.062161</td>\n",
       "      <td>0.287556</td>\n",
       "      <td>0.000000</td>\n",
       "    </tr>\n",
       "    <tr>\n",
       "      <th>1967</th>\n",
       "      <td>0.139597</td>\n",
       "      <td>0.369374</td>\n",
       "      <td>-0.063993</td>\n",
       "      <td>-0.219037</td>\n",
       "      <td>-0.244087</td>\n",
       "      <td>0.794918</td>\n",
       "      <td>-0.000831</td>\n",
       "      <td>-0.795083</td>\n",
       "    </tr>\n",
       "    <tr>\n",
       "      <th>2757</th>\n",
       "      <td>-1.000040</td>\n",
       "      <td>-0.892666</td>\n",
       "      <td>-0.330190</td>\n",
       "      <td>-0.977371</td>\n",
       "      <td>0.500444</td>\n",
       "      <td>-1.041679</td>\n",
       "      <td>0.287556</td>\n",
       "      <td>0.000000</td>\n",
       "    </tr>\n",
       "    <tr>\n",
       "      <th>3120</th>\n",
       "      <td>-1.759798</td>\n",
       "      <td>-2.154706</td>\n",
       "      <td>-0.862583</td>\n",
       "      <td>-2.494040</td>\n",
       "      <td>2.953118</td>\n",
       "      <td>-1.408998</td>\n",
       "      <td>-0.000831</td>\n",
       "      <td>-0.004797</td>\n",
       "    </tr>\n",
       "    <tr>\n",
       "      <th>2488</th>\n",
       "      <td>2.038992</td>\n",
       "      <td>2.472775</td>\n",
       "      <td>1.266991</td>\n",
       "      <td>1.550410</td>\n",
       "      <td>-0.891837</td>\n",
       "      <td>1.284677</td>\n",
       "      <td>-0.577605</td>\n",
       "      <td>0.785489</td>\n",
       "    </tr>\n",
       "    <tr>\n",
       "      <th>...</th>\n",
       "      <td>...</td>\n",
       "      <td>...</td>\n",
       "      <td>...</td>\n",
       "      <td>...</td>\n",
       "      <td>...</td>\n",
       "      <td>...</td>\n",
       "      <td>...</td>\n",
       "      <td>...</td>\n",
       "    </tr>\n",
       "    <tr>\n",
       "      <th>3092</th>\n",
       "      <td>-0.620161</td>\n",
       "      <td>-0.892666</td>\n",
       "      <td>-1.394977</td>\n",
       "      <td>-0.977371</td>\n",
       "      <td>0.603759</td>\n",
       "      <td>-0.307040</td>\n",
       "      <td>0.864330</td>\n",
       "      <td>0.943547</td>\n",
       "    </tr>\n",
       "    <tr>\n",
       "      <th>1095</th>\n",
       "      <td>1.659113</td>\n",
       "      <td>1.631415</td>\n",
       "      <td>1.000794</td>\n",
       "      <td>1.550410</td>\n",
       "      <td>-1.039657</td>\n",
       "      <td>0.550038</td>\n",
       "      <td>0.287556</td>\n",
       "      <td>1.101604</td>\n",
       "    </tr>\n",
       "    <tr>\n",
       "      <th>1130</th>\n",
       "      <td>0.899355</td>\n",
       "      <td>1.210735</td>\n",
       "      <td>1.266991</td>\n",
       "      <td>0.539298</td>\n",
       "      <td>-0.588632</td>\n",
       "      <td>-0.062161</td>\n",
       "      <td>-0.289218</td>\n",
       "      <td>0.785489</td>\n",
       "    </tr>\n",
       "    <tr>\n",
       "      <th>1294</th>\n",
       "      <td>-0.240282</td>\n",
       "      <td>-0.051306</td>\n",
       "      <td>-0.596387</td>\n",
       "      <td>0.539298</td>\n",
       "      <td>0.580304</td>\n",
       "      <td>1.039797</td>\n",
       "      <td>-0.289218</td>\n",
       "      <td>-0.162854</td>\n",
       "    </tr>\n",
       "    <tr>\n",
       "      <th>860</th>\n",
       "      <td>-1.379919</td>\n",
       "      <td>-1.313346</td>\n",
       "      <td>-1.394977</td>\n",
       "      <td>-1.230149</td>\n",
       "      <td>0.403250</td>\n",
       "      <td>0.182719</td>\n",
       "      <td>-0.289218</td>\n",
       "      <td>-0.004797</td>\n",
       "    </tr>\n",
       "  </tbody>\n",
       "</table>\n",
       "<p>2499 rows × 8 columns</p>\n",
       "</div>"
      ],
      "text/plain": [
       "      % Frequent Physical Distress  % Frequent Mental Distress  \\\n",
       "1746                      1.279234                    0.790055   \n",
       "1967                      0.139597                    0.369374   \n",
       "2757                     -1.000040                   -0.892666   \n",
       "3120                     -1.759798                   -2.154706   \n",
       "2488                      2.038992                    2.472775   \n",
       "...                            ...                         ...   \n",
       "3092                     -0.620161                   -0.892666   \n",
       "1095                      1.659113                    1.631415   \n",
       "1130                      0.899355                    1.210735   \n",
       "1294                     -0.240282                   -0.051306   \n",
       "860                      -1.379919                   -1.313346   \n",
       "\n",
       "      % Food Insecure  % Insufficient Sleep  Median Household Income  \\\n",
       "1746         1.000794              0.792076                -0.834608   \n",
       "1967        -0.063993             -0.219037                -0.244087   \n",
       "2757        -0.330190             -0.977371                 0.500444   \n",
       "3120        -0.862583             -2.494040                 2.953118   \n",
       "2488         1.266991              1.550410                -0.891837   \n",
       "...               ...                   ...                      ...   \n",
       "3092        -1.394977             -0.977371                 0.603759   \n",
       "1095         1.000794              1.550410                -1.039657   \n",
       "1130         1.266991              0.539298                -0.588632   \n",
       "1294        -0.596387              0.539298                 0.580304   \n",
       "860         -1.394977             -1.230149                 0.403250   \n",
       "\n",
       "      % Homeowners  % Severe Housing Cost Burden  High School Graduation Rate  \n",
       "1746     -0.062161                      0.287556                     0.000000  \n",
       "1967      0.794918                     -0.000831                    -0.795083  \n",
       "2757     -1.041679                      0.287556                     0.000000  \n",
       "3120     -1.408998                     -0.000831                    -0.004797  \n",
       "2488      1.284677                     -0.577605                     0.785489  \n",
       "...            ...                           ...                          ...  \n",
       "3092     -0.307040                      0.864330                     0.943547  \n",
       "1095      0.550038                      0.287556                     1.101604  \n",
       "1130     -0.062161                     -0.289218                     0.785489  \n",
       "1294      1.039797                     -0.289218                    -0.162854  \n",
       "860       0.182719                     -0.289218                    -0.004797  \n",
       "\n",
       "[2499 rows x 8 columns]"
      ]
     },
     "execution_count": 29,
     "metadata": {},
     "output_type": "execute_result"
    }
   ],
   "source": [
    "X_train"
   ]
  },
  {
   "cell_type": "code",
   "execution_count": 49,
   "metadata": {},
   "outputs": [
    {
     "data": {
      "text/plain": [
       "0.6749622761388898"
      ]
     },
     "metadata": {},
     "output_type": "display_data"
    },
    {
     "data": {
      "text/plain": [
       "0.545348516631994"
      ]
     },
     "metadata": {},
     "output_type": "display_data"
    }
   ],
   "source": [
    "gbm = GradientBoostingRegressor(learning_rate=0.01, n_estimators=500, random_state=42, min_samples_split=2\n",
    "                                , min_samples_leaf=2)\n",
    "gbm.fit(X_train, y_train)\n",
    "y_pred_train = gbm.predict(X_train)\n",
    "display(r2_score(y_train, y_pred_train))\n",
    "y_pred = gbm.predict(X_test)\n",
    "display(r2_score(y_test, y_pred))"
   ]
  },
  {
   "cell_type": "code",
   "execution_count": 53,
   "metadata": {},
   "outputs": [
    {
     "data": {
      "text/plain": [
       "0.5718816571218711"
      ]
     },
     "metadata": {},
     "output_type": "display_data"
    },
    {
     "data": {
      "text/plain": [
       "0.550969092975025"
      ]
     },
     "metadata": {},
     "output_type": "display_data"
    }
   ],
   "source": [
    "reg = LinearRegression()\n",
    "reg.fit(X_train, y_train)\n",
    "y_pred_train = reg.predict(X_train)\n",
    "display(r2_score(y_train, y_pred_train))\n",
    "y_pred = reg.predict(X_test)\n",
    "display(r2_score(y_test, y_pred))"
   ]
  },
  {
   "cell_type": "code",
   "execution_count": 58,
   "metadata": {},
   "outputs": [
    {
     "name": "stdout",
     "output_type": "stream",
     "text": [
      "[ 0.09991863 -1.06313697 -0.63519366 -0.48119549  0.55553312  0.3024067\n",
      "  0.4934197   0.05912479]\n"
     ]
    }
   ],
   "source": [
    "print(reg.coef_)"
   ]
  },
  {
   "cell_type": "code",
   "execution_count": 12,
   "metadata": {},
   "outputs": [
    {
     "data": {
      "text/plain": [
       "3.1168008333801223"
      ]
     },
     "metadata": {},
     "output_type": "display_data"
    },
    {
     "data": {
      "text/plain": [
       "77.5328745198464"
      ]
     },
     "metadata": {},
     "output_type": "display_data"
    },
    {
     "data": {
      "text/plain": [
       "(3124,)"
      ]
     },
     "metadata": {},
     "output_type": "display_data"
    },
    {
     "name": "stdout",
     "output_type": "stream",
     "text": [
      "3300000.0\n",
      "0.0009466666666666666\n",
      "3292.3952465282982\n"
     ]
    }
   ],
   "source": [
    "display(np.std(y))\n",
    "display(np.mean(y))\n",
    "display(y.shape)\n",
    "est_pop_US = 3.3e6\n",
    "print(est_pop_US)\n",
    "sample_scaler = y.shape[0] / est_pop_US\n",
    "print(sample_scaler)\n",
    "print(np.std(y) / sample_scaler)"
   ]
  },
  {
   "cell_type": "code",
   "execution_count": 13,
   "metadata": {},
   "outputs": [
    {
     "data": {
      "text/html": [
       "<div>\n",
       "<style scoped>\n",
       "    .dataframe tbody tr th:only-of-type {\n",
       "        vertical-align: middle;\n",
       "    }\n",
       "\n",
       "    .dataframe tbody tr th {\n",
       "        vertical-align: top;\n",
       "    }\n",
       "\n",
       "    .dataframe thead th {\n",
       "        text-align: right;\n",
       "    }\n",
       "</style>\n",
       "<table border=\"1\" class=\"dataframe\">\n",
       "  <thead>\n",
       "    <tr style=\"text-align: right;\">\n",
       "      <th></th>\n",
       "      <th>% Frequent Physical Distress</th>\n",
       "      <th>% Frequent Mental Distress</th>\n",
       "      <th>% Food Insecure</th>\n",
       "      <th>% Insufficient Sleep</th>\n",
       "      <th>Median Household Income</th>\n",
       "      <th>% Homeowners</th>\n",
       "      <th>% Severe Housing Cost Burden</th>\n",
       "      <th>High School Graduation Rate</th>\n",
       "    </tr>\n",
       "  </thead>\n",
       "  <tbody>\n",
       "    <tr>\n",
       "      <th>count</th>\n",
       "      <td>3.124000e+03</td>\n",
       "      <td>3.124000e+03</td>\n",
       "      <td>3.124000e+03</td>\n",
       "      <td>3.124000e+03</td>\n",
       "      <td>3.124000e+03</td>\n",
       "      <td>3.124000e+03</td>\n",
       "      <td>3.124000e+03</td>\n",
       "      <td>3.124000e+03</td>\n",
       "    </tr>\n",
       "    <tr>\n",
       "      <th>mean</th>\n",
       "      <td>-4.554615e-16</td>\n",
       "      <td>-3.611956e-16</td>\n",
       "      <td>1.992875e-15</td>\n",
       "      <td>-5.410738e-16</td>\n",
       "      <td>2.631005e-16</td>\n",
       "      <td>5.733783e-16</td>\n",
       "      <td>3.533949e-16</td>\n",
       "      <td>-6.373121e-16</td>\n",
       "    </tr>\n",
       "    <tr>\n",
       "      <th>std</th>\n",
       "      <td>1.000160e+00</td>\n",
       "      <td>1.000160e+00</td>\n",
       "      <td>1.000160e+00</td>\n",
       "      <td>1.000160e+00</td>\n",
       "      <td>1.000160e+00</td>\n",
       "      <td>1.000160e+00</td>\n",
       "      <td>1.000160e+00</td>\n",
       "      <td>1.000160e+00</td>\n",
       "    </tr>\n",
       "    <tr>\n",
       "      <th>min</th>\n",
       "      <td>-2.519556e+00</td>\n",
       "      <td>-2.575386e+00</td>\n",
       "      <td>-2.459764e+00</td>\n",
       "      <td>-2.746818e+00</td>\n",
       "      <td>-2.144210e+00</td>\n",
       "      <td>-6.306588e+00</td>\n",
       "      <td>-2.596313e+00</td>\n",
       "      <td>-9.330174e+00</td>\n",
       "    </tr>\n",
       "    <tr>\n",
       "      <th>25%</th>\n",
       "      <td>-6.201609e-01</td>\n",
       "      <td>-8.926660e-01</td>\n",
       "      <td>-5.963866e-01</td>\n",
       "      <td>-7.245930e-01</td>\n",
       "      <td>-6.601001e-01</td>\n",
       "      <td>-5.519196e-01</td>\n",
       "      <td>-5.776046e-01</td>\n",
       "      <td>-3.209114e-01</td>\n",
       "    </tr>\n",
       "    <tr>\n",
       "      <th>50%</th>\n",
       "      <td>-2.402820e-01</td>\n",
       "      <td>-5.130574e-02</td>\n",
       "      <td>-6.399290e-02</td>\n",
       "      <td>3.374152e-02</td>\n",
       "      <td>-1.627831e-01</td>\n",
       "      <td>1.827190e-01</td>\n",
       "      <td>-8.308201e-04</td>\n",
       "      <td>0.000000e+00</td>\n",
       "    </tr>\n",
       "    <tr>\n",
       "      <th>75%</th>\n",
       "      <td>5.194760e-01</td>\n",
       "      <td>7.900545e-01</td>\n",
       "      <td>7.345976e-01</td>\n",
       "      <td>7.920760e-01</td>\n",
       "      <td>4.515376e-01</td>\n",
       "      <td>6.724781e-01</td>\n",
       "      <td>5.759430e-01</td>\n",
       "      <td>6.274321e-01</td>\n",
       "    </tr>\n",
       "    <tr>\n",
       "      <th>max</th>\n",
       "      <td>5.837782e+00</td>\n",
       "      <td>4.155495e+00</td>\n",
       "      <td>4.461353e+00</td>\n",
       "      <td>3.067079e+00</td>\n",
       "      <td>6.596602e+00</td>\n",
       "      <td>2.264195e+00</td>\n",
       "      <td>5.766907e+00</td>\n",
       "      <td>1.891890e+00</td>\n",
       "    </tr>\n",
       "  </tbody>\n",
       "</table>\n",
       "</div>"
      ],
      "text/plain": [
       "       % Frequent Physical Distress  % Frequent Mental Distress  \\\n",
       "count                  3.124000e+03                3.124000e+03   \n",
       "mean                  -4.554615e-16               -3.611956e-16   \n",
       "std                    1.000160e+00                1.000160e+00   \n",
       "min                   -2.519556e+00               -2.575386e+00   \n",
       "25%                   -6.201609e-01               -8.926660e-01   \n",
       "50%                   -2.402820e-01               -5.130574e-02   \n",
       "75%                    5.194760e-01                7.900545e-01   \n",
       "max                    5.837782e+00                4.155495e+00   \n",
       "\n",
       "       % Food Insecure  % Insufficient Sleep  Median Household Income  \\\n",
       "count     3.124000e+03          3.124000e+03             3.124000e+03   \n",
       "mean      1.992875e-15         -5.410738e-16             2.631005e-16   \n",
       "std       1.000160e+00          1.000160e+00             1.000160e+00   \n",
       "min      -2.459764e+00         -2.746818e+00            -2.144210e+00   \n",
       "25%      -5.963866e-01         -7.245930e-01            -6.601001e-01   \n",
       "50%      -6.399290e-02          3.374152e-02            -1.627831e-01   \n",
       "75%       7.345976e-01          7.920760e-01             4.515376e-01   \n",
       "max       4.461353e+00          3.067079e+00             6.596602e+00   \n",
       "\n",
       "       % Homeowners  % Severe Housing Cost Burden  High School Graduation Rate  \n",
       "count  3.124000e+03                  3.124000e+03                 3.124000e+03  \n",
       "mean   5.733783e-16                  3.533949e-16                -6.373121e-16  \n",
       "std    1.000160e+00                  1.000160e+00                 1.000160e+00  \n",
       "min   -6.306588e+00                 -2.596313e+00                -9.330174e+00  \n",
       "25%   -5.519196e-01                 -5.776046e-01                -3.209114e-01  \n",
       "50%    1.827190e-01                 -8.308201e-04                 0.000000e+00  \n",
       "75%    6.724781e-01                  5.759430e-01                 6.274321e-01  \n",
       "max    2.264195e+00                  5.766907e+00                 1.891890e+00  "
      ]
     },
     "execution_count": 13,
     "metadata": {},
     "output_type": "execute_result"
    }
   ],
   "source": [
    "X_scaled.describe()"
   ]
  },
  {
   "cell_type": "code",
   "execution_count": 14,
   "metadata": {},
   "outputs": [],
   "source": [
    "# y_pred = forest.predict(X_test)\n",
    "# r2_score(y_test, y_pred)\n",
    "[ 0.09991863 -1.06313697 -0.63519366 -0.48119549  0.55553312  0.3024067\n",
    "  0.4934197   0.05912479]"
   ]
  },
  {
   "cell_type": "code",
   "execution_count": 15,
   "metadata": {},
   "outputs": [
    {
     "data": {
      "image/png": "[encoded data removed]",
      "text/plain": [
       "<Figure size 432x288 with 1 Axes>"
      ]
     },
     "metadata": {
      "needs_background": "light"
     },
     "output_type": "display_data"
    }
   ],
   "source": [
    "feature_names = X.columns\n",
    "importances = forest.feature_importances_\n",
    "forest_importances = pd.Series(importances, index=feature_names)\n",
    "std = np.std([tree.feature_importances_ for tree in forest.estimators_], axis=0)\n",
    "\n",
    "fig, ax = plt.subplots()\n",
    "forest_importances.plot.bar(yerr=std, ax=ax)\n",
    "ax.set_title(\"Feature importances using MDI\")\n",
    "ax.set_ylabel(\"Mean decrease in impurity\")\n",
    "fig.tight_layout()"
   ]
  },
  {
   "cell_type": "code",
   "execution_count": 16,
   "metadata": {},
   "outputs": [
    {
     "name": "stdout",
     "output_type": "stream",
     "text": [
      "2700\n"
     ]
    },
    {
     "data": {
      "text/plain": [
       "Index(['% Frequent Physical Distress', '% Frequent Mental Distress',\n",
       "       '% Food Insecure', '% Insufficient Sleep', 'Median Household Income',\n",
       "       '% Homeowners', '% Severe Housing Cost Burden',\n",
       "       'High School Graduation Rate'],\n",
       "      dtype='object')"
      ]
     },
     "execution_count": 16,
     "metadata": {},
     "output_type": "execute_result"
    }
   ],
   "source": [
    "\n",
    "print(5*5*3*3*2*2*3)\n",
    "X.columns"
   ]
  },
  {
   "cell_type": "code",
   "execution_count": 54,
   "metadata": {},
   "outputs": [
    {
     "name": "stdout",
     "output_type": "stream",
     "text": [
      "5400\n",
      "(5400, 8)\n"
     ]
    },
    {
     "data": {
      "image/png": "[encoded data removed]",
      "text/plain": [
       "<Figure size 432x288 with 1 Axes>"
      ]
     },
     "metadata": {
      "needs_background": "light"
     },
     "output_type": "display_data"
    }
   ],
   "source": [
    "W = ['A','B','C','D','E']\n",
    "five_value = [0.2,0.35,0,0.65,0.8]\n",
    "three_value = [0.2,0,0.8]\n",
    "two_value = [0.35,0.65]\n",
    "\n",
    "five_value = [-0.842,-0.385,0,0.385,0.842]\n",
    "five_value = [-1.28,-0.52,0,0.52,1.28]\n",
    "three_value = [-0.842,0,0.842]\n",
    "three_value = [-0.842,0,0.842]\n",
    "two_value = [-0.385,0.385]\n",
    "\n",
    "code = []\n",
    "Q1 = []\n",
    "Q2 = []\n",
    "Q3 = []\n",
    "Q4 = []\n",
    "Q5 = []\n",
    "Q6 = []\n",
    "Q7 = []\n",
    "Q8 = []\n",
    "i =0\n",
    "for q1_i in range(5):\n",
    "    for q2_i in range(5):\n",
    "        for q3_i in range(3):\n",
    "            for q4_i in range(3):\n",
    "                for q5_i in range(3):\n",
    "                    for q6_i in range(2):\n",
    "                        for q7_i in range(2):\n",
    "                            for q8_i in range(2):\n",
    "                                i += 1\n",
    "                                Q1.append(five_value[q1_i])\n",
    "                                Q2.append(five_value[q2_i])\n",
    "                                Q3.append(three_value[q3_i])\n",
    "                                Q4.append(three_value[q4_i])\n",
    "                                Q5.append(three_value[q5_i])\n",
    "                                Q6.append(two_value[q6_i])\n",
    "                                Q7.append(two_value[q7_i])\n",
    "                                Q8.append(two_value[q8_i])\n",
    "                                temp = W[q1_i] + W[q2_i] + W[q3_i] + W[q4_i] + W[q5_i] + W[q6_i] + W[q7_i] + W[q8_i]\n",
    "                                code.append(temp)\n",
    "print(i)\n",
    "\n",
    "df_to_test = pd.DataFrame(\n",
    "    {'% Frequent Physical Distress': Q1,\n",
    "     '% Frequent Mental Distress': Q2,\n",
    "     '% Food Insecure': Q3,\n",
    "     '% Insufficient Sleep': Q4,\n",
    "     'Median Household Income': Q5,\n",
    "     '% Homeowners': Q6,\n",
    "     '% Severe Housing Cost Burden': Q7,\n",
    "     'High School Graduation Rate': Q8,\n",
    "     'code':code\n",
    "    })\n",
    "\n",
    "df_to_test.head(10)\n",
    "X_staged = df_to_test.iloc[:,:8]\n",
    "X_staged.head()\n",
    "print(X_staged.shape)\n",
    "# y_staged = forest.predict(X_staged)\n",
    "# y_staged = gbm.predict(X_staged)\n",
    "y_staged = reg.predict(X_staged)\n",
    "\n",
    "df_staged = X_staged.copy()\n",
    "df_staged['pred'] = y_staged\n",
    "df_staged.head()\n",
    "df_staged.pred.hist()\n",
    "df_staged['code'] = code\n",
    "df_staged.head()      \n",
    "df_staged.to_csv('df_staged.csv')\n",
    "    "
   ]
  },
  {
   "cell_type": "code",
   "execution_count": 18,
   "metadata": {},
   "outputs": [
    {
     "data": {
      "text/plain": [
       "Index(['% Frequent Physical Distress', '% Frequent Mental Distress',\n",
       "       '% Food Insecure', '% Insufficient Sleep', 'Median Household Income',\n",
       "       '% Homeowners', '% Severe Housing Cost Burden',\n",
       "       'High School Graduation Rate'],\n",
       "      dtype='object')"
      ]
     },
     "execution_count": 18,
     "metadata": {},
     "output_type": "execute_result"
    }
   ],
   "source": [
    "X.columns"
   ]
  },
  {
   "cell_type": "code",
   "execution_count": 55,
   "metadata": {},
   "outputs": [],
   "source": [
    "def one_line_of_dict(code, pred):\n",
    "    temp = '\"{}\":\"{}\",'.format(str(code), str(pred)[:5])\n",
    "    return temp\n",
    "df_staged.head()\n",
    "df_staged['dictionary'] = df_staged.apply(lambda x: one_line_of_dict(x['code'], x['pred']),axis=1)\n",
    "df_staged\n",
    "df_staged.to_csv('df_staged.csv')\n"
   ]
  },
  {
   "cell_type": "code",
   "execution_count": null,
   "metadata": {},
   "outputs": [],
   "source": []
  },
  {
   "cell_type": "code",
   "execution_count": null,
   "metadata": {},
   "outputs": [],
   "source": []
  },
  {
   "cell_type": "code",
   "execution_count": null,
   "metadata": {},
   "outputs": [],
   "source": []
  },
  {
   "cell_type": "code",
   "execution_count": null,
   "metadata": {},
   "outputs": [],
   "source": []
  },
  {
   "cell_type": "code",
   "execution_count": null,
   "metadata": {},
   "outputs": [],
   "source": []
  },
  {
   "cell_type": "code",
   "execution_count": null,
   "metadata": {},
   "outputs": [],
   "source": []
  },
  {
   "cell_type": "code",
   "execution_count": null,
   "metadata": {},
   "outputs": [],
   "source": []
  },
  {
   "cell_type": "code",
   "execution_count": null,
   "metadata": {},
   "outputs": [],
   "source": []
  },
  {
   "cell_type": "code",
   "execution_count": null,
   "metadata": {},
   "outputs": [],
   "source": []
  },
  {
   "cell_type": "markdown",
   "metadata": {},
   "source": [
    "## Plan 20211120\n",
    "- Find standard deviation of each metric. See if that would give a reasonable prediction/ metrics.\n",
    "- Tune the model to be more predictive. See if it will fly or not.\n",
    "- Build to post and pre processing necessary to take inputs and turn them into outputs."
   ]
  },
  {
   "cell_type": "code",
   "execution_count": null,
   "metadata": {},
   "outputs": [],
   "source": [
    "display(df.columns)\n",
    "display(df.head())\n",
    "display(df.shape)\n",
    "display(df.isna().sum())\n",
    "df2 = df.drop(['Average Grade Performance','Cohort Size'],axis=1)\n",
    "display(df2.isna().sum())\n",
    "df3 = df2[df2['Life Expectancy'].notna()].copy()\n",
    "avg_hs_grad = np.mean(df3['High School Graduation Rate'])\n",
    "df3['High School Graduation Rate'] = df3['High School Graduation Rate'].fillna(avg_hs_grad)\n",
    "display(df3.isna().sum())\n",
    "X = df3.drop(['FIPS', 'State', 'County', 'Life Expectancy',],axis=1)\n",
    "y = df3['Life Expectancy']\n",
    "# scaler = MinMaxScaler()\n",
    "scaler = StandardScaler()\n",
    "X_scaled = scaler.fit_transform(X)\n",
    "X_scaled = pd.DataFrame(data=X_scaled, columns=X.columns)\n",
    "X_scaled.isna().sum()\n",
    "# df_scaled = scaler.fit_transform(df.iloc[:,3:])\n",
    "# df_scaled_df = pd.DataFrame(data=df_scaled, columns=df.columns[3:])\n",
    "# # print(df_scaled_df)"
   ]
  },
  {
   "cell_type": "code",
   "execution_count": 149,
   "metadata": {},
   "outputs": [],
   "source": [
    "import scipy.stats as stats"
   ]
  },
  {
   "cell_type": "code",
   "execution_count": 151,
   "metadata": {},
   "outputs": [
    {
     "data": {
      "text/plain": [
       "1.0"
      ]
     },
     "execution_count": 151,
     "metadata": {},
     "output_type": "execute_result"
    }
   ],
   "source": [
    "x = 0.6\n",
    "cdf = stats.binom.cdf\n",
    "cdf(x, 0, 1)"
   ]
  },
  {
   "cell_type": "code",
   "execution_count": 152,
   "metadata": {},
   "outputs": [
    {
     "ename": "NameError",
     "evalue": "name 'invnorm' is not defined",
     "output_type": "error",
     "traceback": [
      "\u001b[0;31m---------------------------------------------------------------------------\u001b[0m",
      "\u001b[0;31mNameError\u001b[0m                                 Traceback (most recent call last)",
      "\u001b[0;32m<ipython-input-152-7cfe88410411>\u001b[0m in \u001b[0;36m<module>\u001b[0;34m\u001b[0m\n\u001b[1;32m      1\u001b[0m \u001b[0mx\u001b[0m\u001b[0;34m-\u001b[0m\u001b[0;36m0.6\u001b[0m\u001b[0;34m\u001b[0m\u001b[0;34m\u001b[0m\u001b[0m\n\u001b[0;32m----> 2\u001b[0;31m \u001b[0minvnorm\u001b[0m\u001b[0;34m.\u001b[0m\u001b[0mcdf\u001b[0m\u001b[0;34m(\u001b[0m\u001b[0mx\u001b[0m\u001b[0;34m,\u001b[0m\u001b[0;36m1\u001b[0m\u001b[0;34m,\u001b[0m\u001b[0mloc\u001b[0m\u001b[0;34m=\u001b[0m\u001b[0;36m0\u001b[0m\u001b[0;34m,\u001b[0m\u001b[0mscale\u001b[0m\u001b[0;34m=\u001b[0m\u001b[0;36m1\u001b[0m\u001b[0;34m)\u001b[0m\u001b[0;34m\u001b[0m\u001b[0;34m\u001b[0m\u001b[0m\n\u001b[0m",
      "\u001b[0;31mNameError\u001b[0m: name 'invnorm' is not defined"
     ]
    }
   ],
   "source": [
    "x-0.6\n",
    "invnorm.cdf(x,1,loc=0,scale=1)"
   ]
  },
  {
   "cell_type": "code",
   "execution_count": 153,
   "metadata": {},
   "outputs": [
    {
     "data": {
      "text/plain": [
       "0.2533471031357997"
      ]
     },
     "execution_count": 153,
     "metadata": {},
     "output_type": "execute_result"
    }
   ],
   "source": [
    "x = 0.6\n",
    "stats.norm.ppf(x)"
   ]
  },
  {
   "cell_type": "code",
   "execution_count": 155,
   "metadata": {},
   "outputs": [
    {
     "ename": "ValueError",
     "evalue": "Unknown label type: 'continuous'",
     "output_type": "error",
     "traceback": [
      "\u001b[0;31m---------------------------------------------------------------------------\u001b[0m",
      "\u001b[0;31mValueError\u001b[0m                                Traceback (most recent call last)",
      "\u001b[0;32m<ipython-input-155-36fd6e1394ed>\u001b[0m in \u001b[0;36m<module>\u001b[0;34m\u001b[0m\n\u001b[1;32m      1\u001b[0m \u001b[0mreg\u001b[0m \u001b[0;34m=\u001b[0m \u001b[0mLogisticRegression\u001b[0m\u001b[0;34m(\u001b[0m\u001b[0mrandom_state\u001b[0m\u001b[0;34m=\u001b[0m\u001b[0;36m42\u001b[0m\u001b[0;34m)\u001b[0m\u001b[0;34m\u001b[0m\u001b[0;34m\u001b[0m\u001b[0m\n\u001b[0;32m----> 2\u001b[0;31m \u001b[0mreg\u001b[0m\u001b[0;34m.\u001b[0m\u001b[0mfit\u001b[0m\u001b[0;34m(\u001b[0m\u001b[0mX_train\u001b[0m\u001b[0;34m,\u001b[0m\u001b[0my_train\u001b[0m\u001b[0;34m)\u001b[0m\u001b[0;34m\u001b[0m\u001b[0;34m\u001b[0m\u001b[0m\n\u001b[0m\u001b[1;32m      3\u001b[0m \u001b[0my_pred_train\u001b[0m \u001b[0;34m=\u001b[0m \u001b[0mreg\u001b[0m\u001b[0;34m.\u001b[0m\u001b[0mpredict\u001b[0m\u001b[0;34m(\u001b[0m\u001b[0mX_train\u001b[0m\u001b[0;34m)\u001b[0m\u001b[0;34m\u001b[0m\u001b[0;34m\u001b[0m\u001b[0m\n\u001b[1;32m      4\u001b[0m \u001b[0mdisplay\u001b[0m\u001b[0;34m(\u001b[0m\u001b[0mr2_score\u001b[0m\u001b[0;34m(\u001b[0m\u001b[0my_train\u001b[0m\u001b[0;34m,\u001b[0m \u001b[0my_pred_train\u001b[0m\u001b[0;34m)\u001b[0m\u001b[0;34m)\u001b[0m\u001b[0;34m\u001b[0m\u001b[0;34m\u001b[0m\u001b[0m\n\u001b[1;32m      5\u001b[0m \u001b[0my_pred\u001b[0m \u001b[0;34m=\u001b[0m \u001b[0mreg\u001b[0m\u001b[0;34m.\u001b[0m\u001b[0mpredict\u001b[0m\u001b[0;34m(\u001b[0m\u001b[0mX_test\u001b[0m\u001b[0;34m)\u001b[0m\u001b[0;34m\u001b[0m\u001b[0;34m\u001b[0m\u001b[0m\n",
      "\u001b[0;32m/usr/local/anaconda3/lib/python3.8/site-packages/sklearn/linear_model/_logistic.py\u001b[0m in \u001b[0;36mfit\u001b[0;34m(self, X, y, sample_weight)\u001b[0m\n\u001b[1;32m   1343\u001b[0m                                    \u001b[0morder\u001b[0m\u001b[0;34m=\u001b[0m\u001b[0;34m\"C\"\u001b[0m\u001b[0;34m,\u001b[0m\u001b[0;34m\u001b[0m\u001b[0;34m\u001b[0m\u001b[0m\n\u001b[1;32m   1344\u001b[0m                                    accept_large_sparse=solver != 'liblinear')\n\u001b[0;32m-> 1345\u001b[0;31m         \u001b[0mcheck_classification_targets\u001b[0m\u001b[0;34m(\u001b[0m\u001b[0my\u001b[0m\u001b[0;34m)\u001b[0m\u001b[0;34m\u001b[0m\u001b[0;34m\u001b[0m\u001b[0m\n\u001b[0m\u001b[1;32m   1346\u001b[0m         \u001b[0mself\u001b[0m\u001b[0;34m.\u001b[0m\u001b[0mclasses_\u001b[0m \u001b[0;34m=\u001b[0m \u001b[0mnp\u001b[0m\u001b[0;34m.\u001b[0m\u001b[0munique\u001b[0m\u001b[0;34m(\u001b[0m\u001b[0my\u001b[0m\u001b[0;34m)\u001b[0m\u001b[0;34m\u001b[0m\u001b[0;34m\u001b[0m\u001b[0m\n\u001b[1;32m   1347\u001b[0m \u001b[0;34m\u001b[0m\u001b[0m\n",
      "\u001b[0;32m/usr/local/anaconda3/lib/python3.8/site-packages/sklearn/utils/multiclass.py\u001b[0m in \u001b[0;36mcheck_classification_targets\u001b[0;34m(y)\u001b[0m\n\u001b[1;32m    170\u001b[0m     if y_type not in ['binary', 'multiclass', 'multiclass-multioutput',\n\u001b[1;32m    171\u001b[0m                       'multilabel-indicator', 'multilabel-sequences']:\n\u001b[0;32m--> 172\u001b[0;31m         \u001b[0;32mraise\u001b[0m \u001b[0mValueError\u001b[0m\u001b[0;34m(\u001b[0m\u001b[0;34m\"Unknown label type: %r\"\u001b[0m \u001b[0;34m%\u001b[0m \u001b[0my_type\u001b[0m\u001b[0;34m)\u001b[0m\u001b[0;34m\u001b[0m\u001b[0;34m\u001b[0m\u001b[0m\n\u001b[0m\u001b[1;32m    173\u001b[0m \u001b[0;34m\u001b[0m\u001b[0m\n\u001b[1;32m    174\u001b[0m \u001b[0;34m\u001b[0m\u001b[0m\n",
      "\u001b[0;31mValueError\u001b[0m: Unknown label type: 'continuous'"
     ]
    }
   ],
   "source": [
    "reg = LogisticRegression(random_state=42)\n",
    "reg.fit(X_train,y_train)\n",
    "y_pred_train = reg.predict(X_train)\n",
    "display(r2_score(y_train, y_pred_train))\n",
    "y_pred = reg.predict(X_test)\n",
    "display(r2_score(y_test, y_pred))"
   ]
  },
  {
   "cell_type": "code",
   "execution_count": null,
   "metadata": {},
   "outputs": [],
   "source": []
  }
 ],
 "metadata": {
  "kernelspec": {
   "display_name": "Python 3",
   "language": "python",
   "name": "python3"
  },
  "language_info": {
   "codemirror_mode": {
    "name": "ipython",
    "version": 3
   },
   "file_extension": ".py",
   "mimetype": "text/x-python",
   "name": "python",
   "nbconvert_exporter": "python",
   "pygments_lexer": "ipython3",
   "version": "3.8.5"
  }
 },
 "nbformat": 4,
 "nbformat_minor": 4
}
